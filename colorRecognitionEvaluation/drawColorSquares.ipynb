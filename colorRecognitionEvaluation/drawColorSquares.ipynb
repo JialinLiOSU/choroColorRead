{
 "cells": [
  {
   "cell_type": "code",
   "execution_count": 1,
   "id": "6fd1d7ed",
   "metadata": {},
   "outputs": [],
   "source": [
    "import pickle\n",
    "import os\n",
    "import numpy as np\n",
    "import json\n",
    "from PIL import Image,ImageDraw\n",
    "import sys\n",
    "\n",
    "import cv2\n",
    "import matplotlib.pyplot as plt  \n",
    "import matplotlib.patches as patches\n",
    "\n",
    "from skimage.segmentation import slic\n",
    "from skimage.segmentation import mark_boundaries\n",
    "from skimage.util import img_as_float\n",
    "from skimage import io\n",
    "from skimage.measure import find_contours\n",
    "\n",
    "from shapely.geometry import Polygon\n",
    "from shapely.geometry import Point\n",
    "from shapely.geometry import box\n",
    "from random import sample\n",
    "%matplotlib inline"
   ]
  },
  {
   "cell_type": "code",
   "execution_count": 118,
   "id": "c7c84278",
   "metadata": {},
   "outputs": [],
   "source": [
    "# read detection results from pickle file\n",
    "actualColors = {\n",
    "    'Blues_4':[(239, 243, 255),(189, 215, 231),(107, 174, 214),(33, 113, 181)],\n",
    "    'Blues_6':[(239, 243, 255),(198, 219, 239),(158, 202, 225),(107, 174, 214),(49, 130, 189),(8, 81, 156)],\n",
    "    'Blues_8':[(247, 251, 255),(222, 235, 247),(198, 219, 239),(158, 202, 225),(107, 174, 214),(66, 146, 198),(33, 113, 181),(8, 69, 148)],\n",
    "    'RdBu_4':[(202, 0, 32),(244, 165, 130),(146, 197, 222),(5, 113, 176)],\n",
    "    'RdBu_6':[(178, 24, 43),(239, 138, 98),(253, 219, 199),(209, 229, 240),(103, 169, 207),(33, 102, 172)],\n",
    "    'RdBu_8':[(178, 24, 43),(214, 96, 77),(244, 165, 130),(253, 219, 199),(209, 229, 240),(146, 197, 222),(67, 147, 195),(33, 102, 172)]\n",
    "}\n",
    "with open(r'C:\\Users\\jiali\\Desktop\\choroColorRead\\colorRecognitionEvaluation' + '\\\\' + 'colorsOrderedImagesRemoveGrey3.pickle', 'rb') as f:\n",
    "    colorsOrderedImages = pickle.load(f)"
   ]
  },
  {
   "cell_type": "code",
   "execution_count": 119,
   "id": "79145a73",
   "metadata": {},
   "outputs": [],
   "source": [
    "# ax = plt.gca()\n",
    "# for i,actualColorKey in enumerate(actualColors.keys()):\n",
    "#     actualColorsList = actualColors[actualColorKey]\n",
    "#     actualColorsList.reverse()\n",
    "#     if i < len(actualColors.keys()) / 2:\n",
    "#         for j,actualColor in enumerate(actualColorsList):\n",
    "#             patch = patches.Rectangle((j,30 - (i % 3) * 10),1,1, facecolor=tuple(ac / 255.0 for ac in actualColor), edgecolor='grey')\n",
    "#             ax.add_patch(patch)\n",
    "#     else:\n",
    "#         for j,actualColor in enumerate(actualColorsList):\n",
    "# #             print(j)\n",
    "#             patch = patches.Rectangle((15 + j,30 - (i % 3) * 10),1,1, facecolor=tuple(ac / 255.0 for ac in actualColor), edgecolor='grey')\n",
    "#             ax.add_patch(patch)\n",
    "# ax.set_ylim([0, 31])\n",
    "# ax.set_xlim([0, 31])\n",
    "# ax.set_aspect(1)\n",
    "# plt.show()"
   ]
  },
  {
   "cell_type": "code",
   "execution_count": 120,
   "id": "ac02f16b",
   "metadata": {},
   "outputs": [
    {
     "name": "stdout",
     "output_type": "stream",
     "text": [
      "{'Blues_4': ['us_Blues_4_neg.jpg', 'us_Blues_4_neg1.jpg', 'us_Blues_4_nonAuto.jpg', 'us_Blues_4_nonAuto1.jpg', 'us_Blues_4_pos_large.jpg', 'us_Blues_4_pos_large1.jpg', 'us_Blues_4_pos_small.jpg', 'us_Blues_4_pos_small1.jpg'], 'Blues_6': ['us_Blues_6_neg.jpg', 'us_Blues_6_neg1.jpg', 'us_Blues_6_nonAuto.jpg', 'us_Blues_6_nonAuto1.jpg', 'us_Blues_6_pos_large.jpg', 'us_Blues_6_pos_large1.jpg', 'us_Blues_6_pos_small.jpg', 'us_Blues_6_pos_small1.jpg'], 'Blues_8': ['us_Blues_8_neg.jpg', 'us_Blues_8_neg1.jpg', 'us_Blues_8_nonAuto.jpg', 'us_Blues_8_nonAuto1.jpg', 'us_Blues_8_pos_large.jpg', 'us_Blues_8_pos_large1.jpg', 'us_Blues_8_pos_small.jpg', 'us_Blues_8_pos_small1.jpg'], 'RdBu_4': ['us_RdBu_4_neg.jpg', 'us_RdBu_4_neg1.jpg', 'us_RdBu_4_nonAuto.jpg', 'us_RdBu_4_nonAuto1.jpg', 'us_RdBu_4_pos_large.jpg', 'us_RdBu_4_pos_large1.jpg', 'us_RdBu_4_pos_small.jpg', 'us_RdBu_4_pos_small1.jpg'], 'RdBu_6': ['us_RdBu_6_neg.jpg', 'us_RdBu_6_neg1.jpg', 'us_RdBu_6_nonAuto.jpg', 'us_RdBu_6_nonAuto1.jpg', 'us_RdBu_6_pos_large.jpg', 'us_RdBu_6_pos_large1.jpg', 'us_RdBu_6_pos_small.jpg', 'us_RdBu_6_pos_small1.jpg'], 'RdBu_8': ['us_RdBu_8_neg.jpg', 'us_RdBu_8_neg1.jpg', 'us_RdBu_8_nonAuto.jpg', 'us_RdBu_8_nonAuto1.jpg', 'us_RdBu_8_pos_large.jpg', 'us_RdBu_8_pos_large1.jpg', 'us_RdBu_8_pos_small.jpg', 'us_RdBu_8_pos_small1.jpg']}\n"
     ]
    },
    {
     "data": {
      "image/png": "[encoded data removed]",
      "text/plain": [
       "<Figure size 432x288 with 1 Axes>"
      ]
     },
     "metadata": {
      "needs_background": "light"
     },
     "output_type": "display_data"
    }
   ],
   "source": [
    "ax = plt.gca()\n",
    "# actual colors\n",
    "for i,actualColorKey in enumerate(actualColors.keys()):\n",
    "    actualColorsList = actualColors[actualColorKey]\n",
    "    actualColorsList.reverse()\n",
    "    if i < len(actualColors.keys()) / 2:\n",
    "        for j,actualColor in enumerate(actualColorsList):\n",
    "            patch = patches.Rectangle((j,33 - (i % 3) * 11),1,1, facecolor=tuple(ac / 255.0 for ac in actualColor), edgecolor='black',linewidth = 0.25)\n",
    "            ax.add_patch(patch)\n",
    "    else:\n",
    "        for j,actualColor in enumerate(actualColorsList):\n",
    "#             print(j)\n",
    "            patch = patches.Rectangle((15 + j,33 - (i % 3) * 11),1,1, facecolor=tuple(ac / 255.0 for ac in actualColor), edgecolor='black',linewidth = 0.25)\n",
    "            ax.add_patch(patch)\n",
    "\n",
    "# ordered colors\n",
    "positionDict = {'Blues_4':[0,33],'Blues_6':[0,22],'Blues_8':[0,11],'RdBu_4':[15,33],'RdBu_6':[15,22],'RdBu_8':[15,11]}\n",
    "saveColorsDict = {'Blues_4':[],'Blues_6':[],'Blues_8':[],'RdBu_4':[],'RdBu_6':[],'RdBu_8':[]}\n",
    "for i,imageName in enumerate(colorsOrderedImages.keys()):\n",
    "    baseMap = imageName.split('_')[0]\n",
    "    if baseMap == 'ohio':\n",
    "        continue\n",
    "    orderedColorList = colorsOrderedImages[imageName]\n",
    "    colorScheme = imageName.split('_')[1]\n",
    "    numColors = imageName.split('_')[2]\n",
    "    actualColorKey = colorScheme + '_' + numColors\n",
    "#     print(actualColorKey)\n",
    "    position = positionDict[actualColorKey]\n",
    "#     print(position)\n",
    "    saveColorList = saveColorsDict[actualColorKey]\n",
    "    index = len(saveColorList) + 1\n",
    "    for j,orderedColor in enumerate(orderedColorList):\n",
    "#         if j == 1:\n",
    "#             break\n",
    "            \n",
    "        patch = patches.Rectangle((position[0] + j,position[1] - index-0.5),1,1, facecolor=tuple(ac / 255.0 for ac in orderedColor),\\\n",
    "                                  edgecolor='grey',linewidth = 0.25)\n",
    "        ax.add_patch(patch)\n",
    "    saveColorsDict[actualColorKey].append(imageName)\n",
    "\n",
    "print(saveColorsDict)\n",
    "\n",
    "ax.set_ylim([0, 35])\n",
    "ax.set_xlim([0, 35])\n",
    "ax.set_aspect(1)\n",
    "plt.axis('off')\n",
    "# plt.show()\n",
    "\n",
    "imageName = 'orderedColorResults.jpg'\n",
    "plt.savefig(imageName,dpi=300,bbox_inches='tight')"
   ]
  },
  {
   "cell_type": "code",
   "execution_count": 109,
   "id": "faa30db6",
   "metadata": {},
   "outputs": [
    {
     "data": {
      "image/png": "[encoded data removed]",
      "text/plain": [
       "<Figure size 432x288 with 1 Axes>"
      ]
     },
     "metadata": {
      "needs_background": "light"
     },
     "output_type": "display_data"
    }
   ],
   "source": [
    "plt.axis('off')\n",
    "plt.axis('equal')\n",
    "# plt.show()ta\n",
    "\n",
    "\n",
    "imageName = 'orderedColorResults.jpg'\n",
    "plt.savefig(imageName,dpi=300,bbox_inches='tight')"
   ]
  },
  {
   "cell_type": "code",
   "execution_count": null,
   "id": "f06cf093",
   "metadata": {},
   "outputs": [],
   "source": []
  }
 ],
 "metadata": {
  "kernelspec": {
   "display_name": "Python 3",
   "language": "python",
   "name": "python3"
  },
  "language_info": {
   "codemirror_mode": {
    "name": "ipython",
    "version": 3
   },
   "file_extension": ".py",
   "mimetype": "text/x-python",
   "name": "python",
   "nbconvert_exporter": "python",
   "pygments_lexer": "ipython3",
   "version": "3.7.11"
  }
 },
 "nbformat": 4,
 "nbformat_minor": 5
}
