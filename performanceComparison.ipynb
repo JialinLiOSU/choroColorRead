{
 "cells": [
  {
   "cell_type": "code",
   "execution_count": 1,
   "id": "263910e1",
   "metadata": {},
   "outputs": [],
   "source": [
    "from scipy.stats import chisquare"
   ]
  },
  {
   "cell_type": "code",
   "execution_count": 2,
   "id": "ba141f7d",
   "metadata": {},
   "outputs": [
    {
     "data": {
      "text/plain": [
       "320.8343949044586"
      ]
     },
     "execution_count": 2,
     "metadata": {},
     "output_type": "execute_result"
    }
   ],
   "source": [
    "chisquareStat = (53-0)**2/53 + (314-24)**2/314\n",
    "chisquareStat"
   ]
  },
  {
   "cell_type": "code",
   "execution_count": 3,
   "id": "7d45c056",
   "metadata": {},
   "outputs": [
    {
     "data": {
      "text/plain": [
       "0.0"
      ]
     },
     "execution_count": 3,
     "metadata": {},
     "output_type": "execute_result"
    }
   ],
   "source": [
    "# from scipy.stats import chisqprob\n",
    "from scipy import stats\n",
    "1 - stats.chi2.cdf(chisquareStat, 1)"
   ]
  },
  {
   "cell_type": "code",
   "execution_count": 4,
   "id": "5bcb29dc",
   "metadata": {},
   "outputs": [
    {
     "data": {
      "text/plain": [
       "335.95272965021246"
      ]
     },
     "execution_count": 4,
     "metadata": {},
     "output_type": "execute_result"
    }
   ],
   "source": [
    "chisquareStat = (266-6)**2/266 + (115-18)**2/115\n",
    "chisquareStat"
   ]
  },
  {
   "cell_type": "code",
   "execution_count": 5,
   "id": "532160cf",
   "metadata": {},
   "outputs": [
    {
     "data": {
      "text/plain": [
       "Power_divergenceResult(statistic=228.20078740157481, pvalue=1.471388687248326e-51)"
      ]
     },
     "execution_count": 5,
     "metadata": {},
     "output_type": "execute_result"
    }
   ],
   "source": [
    "chisquare([266,115], f_exp=[int((266+115)/3),int((266+115)/3*2)])"
   ]
  },
  {
   "cell_type": "code",
   "execution_count": 6,
   "id": "5c9e01fd",
   "metadata": {},
   "outputs": [
    {
     "data": {
      "text/plain": [
       "381"
      ]
     },
     "execution_count": 6,
     "metadata": {},
     "output_type": "execute_result"
    }
   ],
   "source": [
    "s = sum([271,45,65])\n",
    "s"
   ]
  },
  {
   "cell_type": "code",
   "execution_count": 8,
   "id": "29d6006f",
   "metadata": {},
   "outputs": [
    {
     "data": {
      "text/plain": [
       "Power_divergenceResult(statistic=38.010205948213326, pvalue=5.574278337838853e-09)"
      ]
     },
     "execution_count": 8,
     "metadata": {},
     "output_type": "execute_result"
    }
   ],
   "source": [
    "chisquare([int(s/24*14),int(s/24*5),int(s/24*5)+1], f_exp=[271,45,65])"
   ]
  },
  {
   "cell_type": "code",
   "execution_count": null,
   "id": "a5f0aef1",
   "metadata": {},
   "outputs": [],
   "source": []
  }
 ],
 "metadata": {
  "kernelspec": {
   "display_name": "Python 3",
   "language": "python",
   "name": "python3"
  },
  "language_info": {
   "codemirror_mode": {
    "name": "ipython",
    "version": 3
   },
   "file_extension": ".py",
   "mimetype": "text/x-python",
   "name": "python",
   "nbconvert_exporter": "python",
   "pygments_lexer": "ipython3",
   "version": "3.7.11"
  }
 },
 "nbformat": 4,
 "nbformat_minor": 5
}
