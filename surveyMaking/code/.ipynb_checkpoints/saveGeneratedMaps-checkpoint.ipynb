{
 "cells": [
  {
   "cell_type": "markdown",
   "id": "0c3970bd-476c-401b-963a-12bb8d8c382a",
   "metadata": {},
   "source": [
    "<p><a href=\"https://colab.research.google.com/github/compgeog/choropleth-tradeoffs/blob/main/explore_choropleth_results.ipynb\" target=\"_blank\"><img src=\"https://colab.research.google.com/assets/colab-badge.svg\" alt=\"Open In Colab\"/></a></p>"
   ]
  },
  {
   "cell_type": "markdown",
   "id": "fe4762ed-4565-4118-b416-b640be7dcf5a",
   "metadata": {},
   "source": [
    "# Choropleth map generation for analysis of choropleth classes\n"
   ]
  },
  {
   "cell_type": "markdown",
   "id": "231f138a-c797-4b36-b2f8-66b58421006b",
   "metadata": {
    "tags": []
   },
   "source": [
    "This notebook is used to generate choropleth maps to analyze classes of enumeration units by both humans and computers "
   ]
  },
  {
   "cell_type": "markdown",
   "id": "0ab17919-8cf5-4e57-9967-139101200cdc",
   "metadata": {},
   "source": [
    "The following cell makes sure the necessary libraries and modules are imported to run the experiments in the rest of this notebook."
   ]
  },
  {
   "cell_type": "code",
   "execution_count": 1,
   "id": "bceaf9dd-58ea-45e9-8477-17b1d496598d",
   "metadata": {},
   "outputs": [],
   "source": [
    "from geom.shapex import *\n",
    "from spatialanalysis.moransi2 import *\n",
    "from cgl.cgl.util.get_adjacency_matrix import *\n",
    "from cgl.cgl.util.draw_polygons_shapex import *\n",
    "from cgl.cgl.util.get_attribute_by_name import *\n",
    "from cgl.cgl.util.evaluate_all import *\n",
    "from cgl.cgl.util.pareto_ranking import *\n",
    "from cgl.cgl.util.parallel_coordinates import *\n",
    "from cgl.cgl.util.xcolorbrewer import *\n",
    "from cgl.cgl.util.breakpoints2 import *\n",
    "\n",
    "import time\n",
    "import random\n",
    "# random.seed(10)\n",
    "import numpy as np\n",
    "import pickle\n",
    "import math\n",
    "\n",
    "import urllib.request as request\n",
    "\n",
    "import json\n",
    "\n",
    "import matplotlib.pyplot as plt\n",
    "%matplotlib inline\n"
   ]
  },
  {
   "cell_type": "markdown",
   "id": "9a660bfd-3ca5-42f2-bedd-2831fa6e7887",
   "metadata": {},
   "source": [
    "# Map Data\n",
    "\n",
    "In this tutorial, we use the data of 1959 Illinois farm products. This data set has been used in many cartographic studies such as [this](https://www.tandfonline.com/doi/full/10.1111/1467-8306.9303005). The data is converted to a GeoJSON file and can be loaded directly from its [github source](https://raw.githubusercontent.com/compgeog/choropleth-tradeoffs/main/data/il/il.geojson)."
   ]
  },
  {
   "cell_type": "code",
   "execution_count": 2,
   "id": "6acf0dbf-a843-45a9-a2a0-240d0e7836de",
   "metadata": {},
   "outputs": [
    {
     "name": "stdout",
     "output_type": "stream",
     "text": [
      "88\n"
     ]
    }
   ],
   "source": [
    "url_il_data = 'https://raw.githubusercontent.com/gisalgs/data/master/OH_geog.geojson'\n",
    "with request.urlopen(url_il_data) as response:\n",
    "    shp = json.loads(response.read())\n",
    "\n",
    "all_features = shp['features']\n",
    "print(len(all_features))"
   ]
  },
  {
   "cell_type": "code",
   "execution_count": 3,
   "id": "17943415",
   "metadata": {},
   "outputs": [
    {
     "data": {
      "text/plain": [
       "dict_keys(['type', 'properties', 'geometry'])"
      ]
     },
     "execution_count": 3,
     "metadata": {},
     "output_type": "execute_result"
    }
   ],
   "source": [
    "all_features[0].keys()"
   ]
  },
  {
   "cell_type": "code",
   "execution_count": 4,
   "id": "60eb5ae7",
   "metadata": {},
   "outputs": [
    {
     "data": {
      "text/plain": [
       "dict_keys(['GEOID', 'NAME', 'TOT_POP', 'TOT_HH', 'PCT_CHLDN', 'PCT_YOUTH', 'PCT_AD', 'PCT_SR', 'PCT_WHT', 'PCT_NWHT', 'MED_HH_INC', 'PCT_BLW_POV_RT', 'PCT_AGRI', 'PCT_CONST', 'PCT_MFG', 'PCT_WHLS_TRA', 'PCT_RET_TRA', 'PCT_TRANS', 'PCT_INFO', 'PCT_FIN', 'PCT_PRO', 'PCT_EDU', 'PCT_REC', 'PCT_OTHERS', 'PCT_PUB_ADMIN'])"
      ]
     },
     "execution_count": 4,
     "metadata": {},
     "output_type": "execute_result"
    }
   ],
   "source": [
    "all_features[0]['properties'].keys()"
   ]
  },
  {
   "cell_type": "markdown",
   "id": "a0e1f51a-be77-4aa2-8505-40d2d35dfbc3",
   "metadata": {},
   "source": [
    "We need to get the bounds of the coordinates for each enumeration unit:"
   ]
  },
  {
   "cell_type": "code",
   "execution_count": 5,
   "id": "f0d76b6f-2a21-42e7-b5b9-48a8e7359626",
   "metadata": {},
   "outputs": [
    {
     "data": {
      "text/plain": [
       "{'xmin': -84.82016, 'ymin': 38.40434, 'xmax': -80.51889, 'ymax': 41.97752}"
      ]
     },
     "execution_count": 5,
     "metadata": {},
     "output_type": "execute_result"
    }
   ],
   "source": [
    "envelopes = get_feature_envelopes(all_features) # list of [xmin, ymin, xmax, ymax]\n",
    "# geom_bounds = [min([p[0] for p in envelopes]), min([p[1] for p in envelopes]), max([p[2] for p in envelopes]), max([p[3] for p in envelopes])]\n",
    "geom_bounds = {\n",
    "    'xmin': min([p[0] for p in envelopes]), \n",
    "    'ymin': min([p[1] for p in envelopes]), \n",
    "    'xmax': max([p[2] for p in envelopes]), \n",
    "    'ymax': max([p[3] for p in envelopes])\n",
    "}\n",
    "\n",
    "geom_bounds # [xmin, ymin, xmax, ymax]"
   ]
  },
  {
   "cell_type": "markdown",
   "id": "91b73de5-ff74-46a7-83d8-ecb1c8a39a01",
   "metadata": {},
   "source": [
    "Let's quickly draw a map to make sure the geometries are loaded correctly."
   ]
  },
  {
   "cell_type": "code",
   "execution_count": 6,
   "id": "7cdcd613-20d0-40ec-bd04-b7b9d74c00f3",
   "metadata": {},
   "outputs": [
    {
     "data": {
      "image/png": "[encoded data removed]",
      "text/plain": [
       "<Figure size 432x288 with 1 Axes>"
      ]
     },
     "metadata": {
      "needs_background": "light"
     },
     "output_type": "display_data"
    }
   ],
   "source": [
    "draw_shape(all_features)\n",
    "plt.axis('off')\n",
    "plt.axis('equal')\n",
    "plt.show()"
   ]
  },
  {
   "cell_type": "markdown",
   "id": "526cf452-1c8b-406e-b19b-aaf433abb42a",
   "metadata": {},
   "source": [
    "With the data loaded, we need to obtain the adjacency matrix (list), all the values of the attribute synthesized by us, and all the unique values (sorted). "
   ]
  },
  {
   "cell_type": "code",
   "execution_count": 7,
   "id": "7ca12fa0",
   "metadata": {},
   "outputs": [
    {
     "data": {
      "text/plain": [
       "[[3, 1],\n",
       " [8, 0],\n",
       " [9, 7],\n",
       " [10, 9],\n",
       " [11, 10],\n",
       " [12, 5],\n",
       " [14, 0],\n",
       " [14, 8],\n",
       " [15, 4],\n",
       " [16, 2],\n",
       " [20, 7],\n",
       " [20, 9],\n",
       " [20, 10],\n",
       " [21, 12],\n",
       " [21, 20],\n",
       " [22, 11],\n",
       " [24, 6],\n",
       " [25, 18],\n",
       " [25, 23],\n",
       " [26, 19],\n",
       " [27, 6],\n",
       " [27, 19],\n",
       " [27, 26],\n",
       " [28, 1],\n",
       " [28, 13],\n",
       " [29, 26],\n",
       " [30, 4],\n",
       " [30, 15],\n",
       " [31, 10],\n",
       " [31, 11],\n",
       " [31, 20],\n",
       " [31, 21],\n",
       " [31, 22],\n",
       " [32, 4],\n",
       " [32, 15],\n",
       " [33, 2],\n",
       " [33, 9],\n",
       " [34, 30],\n",
       " [35, 22],\n",
       " [36, 19],\n",
       " [37, 34],\n",
       " [38, 6],\n",
       " [38, 24],\n",
       " [38, 27],\n",
       " [39, 19],\n",
       " [39, 26],\n",
       " [39, 27],\n",
       " [39, 36],\n",
       " [39, 38],\n",
       " [40, 4],\n",
       " [41, 17],\n",
       " [42, 19],\n",
       " [42, 36],\n",
       " [43, 1],\n",
       " [43, 12],\n",
       " [43, 21],\n",
       " [43, 22],\n",
       " [43, 31],\n",
       " [44, 19],\n",
       " [44, 26],\n",
       " [44, 29],\n",
       " [45, 1],\n",
       " [45, 3],\n",
       " [45, 5],\n",
       " [45, 12],\n",
       " [45, 43],\n",
       " [46, 17],\n",
       " [46, 24],\n",
       " [46, 41],\n",
       " [47, 4],\n",
       " [47, 5],\n",
       " [47, 32],\n",
       " [48, 13],\n",
       " [48, 14],\n",
       " [49, 4],\n",
       " [49, 5],\n",
       " [49, 12],\n",
       " [49, 40],\n",
       " [49, 47],\n",
       " [50, 23],\n",
       " [50, 25],\n",
       " [51, 13],\n",
       " [51, 22],\n",
       " [51, 35],\n",
       " [51, 48],\n",
       " [52, 14],\n",
       " [52, 48],\n",
       " [53, 11],\n",
       " [53, 22],\n",
       " [53, 35],\n",
       " [54, 1],\n",
       " [54, 13],\n",
       " [54, 22],\n",
       " [54, 28],\n",
       " [54, 43],\n",
       " [54, 51],\n",
       " [55, 32],\n",
       " [55, 42],\n",
       " [55, 47],\n",
       " [56, 7],\n",
       " [56, 12],\n",
       " [56, 20],\n",
       " [56, 21],\n",
       " [57, 23],\n",
       " [57, 35],\n",
       " [57, 50],\n",
       " [58, 28],\n",
       " [59, 0],\n",
       " [59, 13],\n",
       " [59, 14],\n",
       " [59, 28],\n",
       " [59, 48],\n",
       " [60, 36],\n",
       " [60, 42],\n",
       " [60, 55],\n",
       " [61, 15],\n",
       " [61, 32],\n",
       " [61, 42],\n",
       " [61, 55],\n",
       " [62, 23],\n",
       " [62, 57],\n",
       " [63, 40],\n",
       " [64, 3],\n",
       " [64, 5],\n",
       " [64, 45],\n",
       " [64, 47],\n",
       " [64, 55],\n",
       " [65, 36],\n",
       " [65, 38],\n",
       " [65, 39],\n",
       " [65, 60],\n",
       " [66, 17],\n",
       " [66, 41],\n",
       " [66, 58],\n",
       " [67, 3],\n",
       " [67, 55],\n",
       " [67, 60],\n",
       " [67, 64],\n",
       " [68, 38],\n",
       " [68, 58],\n",
       " [68, 60],\n",
       " [68, 65],\n",
       " [69, 8],\n",
       " [69, 17],\n",
       " [70, 6],\n",
       " [70, 26],\n",
       " [70, 27],\n",
       " [70, 29],\n",
       " [71, 1],\n",
       " [71, 3],\n",
       " [71, 28],\n",
       " [71, 58],\n",
       " [71, 60],\n",
       " [71, 67],\n",
       " [71, 68],\n",
       " [72, 18],\n",
       " [72, 52],\n",
       " [73, 16],\n",
       " [73, 62],\n",
       " [74, 24],\n",
       " [74, 38],\n",
       " [74, 41],\n",
       " [74, 46],\n",
       " [75, 4],\n",
       " [75, 30],\n",
       " [75, 34],\n",
       " [75, 37],\n",
       " [75, 40],\n",
       " [75, 49],\n",
       " [76, 18],\n",
       " [76, 25],\n",
       " [76, 50],\n",
       " [76, 52],\n",
       " [76, 72],\n",
       " [77, 35],\n",
       " [77, 53],\n",
       " [77, 57],\n",
       " [77, 62],\n",
       " [77, 73],\n",
       " [78, 37],\n",
       " [78, 40],\n",
       " [78, 63],\n",
       " [78, 75],\n",
       " [79, 14],\n",
       " [79, 52],\n",
       " [79, 72],\n",
       " [80, 35],\n",
       " [80, 48],\n",
       " [80, 50],\n",
       " [80, 51],\n",
       " [80, 52],\n",
       " [80, 57],\n",
       " [80, 76],\n",
       " [81, 12],\n",
       " [81, 40],\n",
       " [81, 49],\n",
       " [81, 56],\n",
       " [82, 7],\n",
       " [82, 40],\n",
       " [82, 56],\n",
       " [82, 63],\n",
       " [82, 81],\n",
       " [83, 2],\n",
       " [83, 9],\n",
       " [83, 10],\n",
       " [83, 11],\n",
       " [83, 33],\n",
       " [83, 53],\n",
       " [84, 2],\n",
       " [84, 16],\n",
       " [84, 53],\n",
       " [84, 73],\n",
       " [84, 77],\n",
       " [84, 83],\n",
       " [85, 0],\n",
       " [85, 8],\n",
       " [85, 17],\n",
       " [85, 66],\n",
       " [85, 69],\n",
       " [86, 0],\n",
       " [86, 28],\n",
       " [86, 58],\n",
       " [86, 59],\n",
       " [86, 66],\n",
       " [86, 85],\n",
       " [87, 38],\n",
       " [87, 41],\n",
       " [87, 58],\n",
       " [87, 66],\n",
       " [87, 68],\n",
       " [87, 74]]"
      ]
     },
     "execution_count": 7,
     "metadata": {},
     "output_type": "execute_result"
    }
   ],
   "source": [
    "# adjacent list for the enumration units\n",
    "adjacency_list = adjacency_matrix(all_features, output='L')\n",
    "adjacency_list"
   ]
  },
  {
   "cell_type": "markdown",
   "id": "2feea0a6",
   "metadata": {},
   "source": [
    "Specify the parameters to synthesize maps besides base map, including color scheme, number of classes"
   ]
  },
  {
   "cell_type": "code",
   "execution_count": 8,
   "id": "cd86ee53",
   "metadata": {},
   "outputs": [],
   "source": [
    "numclass = 4\n",
    "colorScheme = 'Reds'"
   ]
  },
  {
   "cell_type": "markdown",
   "id": "02a3a61d",
   "metadata": {},
   "source": [
    "#### 1. Generate spatial data (all values) with negative spatial autocorrelation for the enumeration units"
   ]
  },
  {
   "cell_type": "markdown",
   "id": "51424517",
   "metadata": {},
   "source": [
    "##### (1) Use checker board with full negative spatial autocorrelation to overlap with the base map (doesn't work to synthesize data with significant negative spatial autocorrelation)"
   ]
  },
  {
   "cell_type": "code",
   "execution_count": null,
   "id": "60607d02",
   "metadata": {},
   "outputs": [],
   "source": [
    "# power = 6\n",
    "# size = 2**power + 1\n",
    "# size = 8\n",
    "# negAutoCorMatrix = np.zeros(shape=(size, size))\n",
    "# size"
   ]
  },
  {
   "cell_type": "code",
   "execution_count": null,
   "id": "b5f78ff2",
   "metadata": {},
   "outputs": [],
   "source": [
    "# for i in range(size):\n",
    "#     for j in range(size):\n",
    "#         if (i + j) % 2 == 0:\n",
    "#             x = random.uniform(0.5, 1)\n",
    "#         else:\n",
    "#             x = random.uniform(0, 0.5)\n",
    "#         negAutoCorMatrix[i][j] = x\n",
    "# H_scaled = negAutoCorMatrix\n",
    "# plt.imshow(H_scaled, interpolation='none')\n",
    "# plt.colorbar(orientation='vertical')\n",
    "# plt.show()"
   ]
  },
  {
   "cell_type": "markdown",
   "id": "ce094735",
   "metadata": {},
   "source": [
    "##### (2) Use BFS to synthesize data for units and adjacent units to make sure they are not in the same class  "
   ]
  },
  {
   "cell_type": "code",
   "execution_count": null,
   "id": "f29ded2d",
   "metadata": {},
   "outputs": [],
   "source": [
    "# find units adjacent to target unit\n",
    "def getAdjacentUnits(adjacency_list, targetID):\n",
    "    adjUnitList = []\n",
    "    for pair in adjacency_list:\n",
    "        if pair[0] == targetID:\n",
    "            adjUnitList.append(pair[1])\n",
    "        elif pair[1] == targetID:\n",
    "            adjUnitList.append(pair[0])\n",
    "    return adjUnitList"
   ]
  },
  {
   "cell_type": "markdown",
   "id": "41ff96ed",
   "metadata": {},
   "source": [
    "Initialize all_values with the same size of all_features, and assign small value to the first value in all_values"
   ]
  },
  {
   "cell_type": "code",
   "execution_count": null,
   "id": "b2812f8e",
   "metadata": {},
   "outputs": [],
   "source": [
    "all_values = [-1 for i in range(len(all_features))] # initialize all_values with the same size of all_features\n",
    "all_values[0] = random.uniform(0.5, 1)\n",
    "visitedIDs = set()\n",
    "visitedIDs.add(0)\n",
    "currentQueue = []\n",
    "currentQueue.append(0)"
   ]
  },
  {
   "cell_type": "markdown",
   "id": "9fa9f416",
   "metadata": {},
   "source": [
    "Generate data with negative spatial autocorrelation"
   ]
  },
  {
   "cell_type": "code",
   "execution_count": null,
   "id": "49253325",
   "metadata": {},
   "outputs": [],
   "source": [
    "while len(currentQueue) != 0:\n",
    "    i =  currentQueue.pop(0)\n",
    "    name =  all_features[i]['properties']['NAME']\n",
    "    geoID =  all_features[i]['properties']['GEOID']\n",
    "#     print('name: %s geoID: %s' %(name, geoID))\n",
    "    adjUnitList = getAdjacentUnits(adjacency_list,i)\n",
    "    for adjUnit in adjUnitList:\n",
    "        if adjUnit not in visitedIDs:\n",
    "            if all_values[i] > 0.5:\n",
    "                all_values[adjUnit] = random.uniform(0, 0.5)\n",
    "            else:\n",
    "                all_values[adjUnit] = random.uniform(0.5, 1)\n",
    "            visitedIDs.add(adjUnit)\n",
    "            currentQueue.append(adjUnit)\n",
    "all_values_neg = all_values"
   ]
  },
  {
   "cell_type": "code",
   "execution_count": null,
   "id": "63f5a9d8",
   "metadata": {},
   "outputs": [],
   "source": [
    "unique_values = list(set(all_values_neg))\n",
    "m = len(all_values_neg)     # number of all values in data\n",
    "n = len(unique_values)  # number of unique values in data\n",
    "print(n, m, min(unique_values), max(unique_values))"
   ]
  },
  {
   "cell_type": "markdown",
   "id": "07a57400-e31d-4a05-94ea-1801c73a4f81",
   "metadata": {},
   "source": [
    "We can also show a histogram of the data."
   ]
  },
  {
   "cell_type": "code",
   "execution_count": null,
   "id": "22cfbe07-6e56-499e-8073-672e9d2741a7",
   "metadata": {},
   "outputs": [],
   "source": [
    "plt.hist(all_values_neg)\n",
    "plt.show()"
   ]
  },
  {
   "cell_type": "markdown",
   "id": "e5ffd6b6-ccc7-4350-b922-1fe841dc6ff5",
   "metadata": {},
   "source": [
    "##### Defining a classification\n",
    "\n",
    "A Python class called `Intervals` is defined in the [classify.py](https://github.com/compgeog/cgl/blob/master/cgl/util/classify.py) that will be cloned here (see the beginning of this tutorial). There are multiple ways to create a classification. Below is an example using a set of lower and upper bounds:"
   ]
  },
  {
   "cell_type": "code",
   "execution_count": null,
   "id": "d19040de-4a34-40bb-b6d6-e0f5f468cac2",
   "metadata": {},
   "outputs": [],
   "source": [
    "intervals = Intervals()\n",
    "intervals_bounds = [ [0, 0.25], [0.25, 0.5], [0.5, 0.75], [0.75, 1] ]\n",
    "intervals.set_classes(intervals_bounds)\n",
    "intervals"
   ]
  },
  {
   "cell_type": "markdown",
   "id": "bcb4dbc5-2f56-48fc-8b80-75c07b7cdc61",
   "metadata": {},
   "source": [
    "We can draw a choropleth map using the classification scheme created from the above section. \n",
    "\n",
    "We first need to calculate the geometry bounds of the map, which will be used later."
   ]
  },
  {
   "cell_type": "code",
   "execution_count": null,
   "id": "885debca-453c-48df-9e95-5b769315521c",
   "metadata": {},
   "outputs": [],
   "source": [
    "xmin, ymin, xmax, ymax = geom_bounds['xmin'], geom_bounds['ymin'], geom_bounds['xmax'], geom_bounds['ymax']"
   ]
  },
  {
   "cell_type": "markdown",
   "id": "729493bf-8ace-4e51-8f29-7efe209a98b0",
   "metadata": {},
   "source": [
    "We draw the map using the intervals stored in `intervals`:"
   ]
  },
  {
   "cell_type": "code",
   "execution_count": null,
   "id": "731b60f8-0cdc-46ad-bf98-63cdecdcc926",
   "metadata": {},
   "outputs": [],
   "source": [
    "# get the classes using the break points in intervals\n",
    "classes = [intervals.get_class(v) for v in all_values_neg]\n",
    "\n",
    "# get the color scheme\n",
    "colors = get_colorbrewer_specs(colorScheme, numclass)\n",
    "\n",
    "# set up the canvas (ax0 is used in rect_legend)\n",
    "_, ax0 = plt.subplots()\n",
    "\n",
    "draw_shape(all_features, classes, colors)\n",
    "\n",
    "box_w = (geom_bounds['xmax']-geom_bounds['xmin'])/5  # a fraction of the total with\n",
    "box_h = box_w*2/3      # slightly smaller than the width\n",
    "label_xgap = box_w / 3\n",
    "label_ygap = box_h * 0.2\n",
    "\n",
    "rect_legend(xmax*1.1, ymin, box_w, box_h, label_xgap, ax0, colors, ygap=label_ygap, edgecolor='grey', intervals=intervals, num_digits=2)\n",
    "\n",
    "plt.axis('off')\n",
    "plt.axis('equal')\n",
    "plt.show()\n"
   ]
  },
  {
   "cell_type": "markdown",
   "id": "f19ac818-0be0-4595-8060-08139267fff3",
   "metadata": {},
   "source": [
    "Calculate gobal Moran's I for the data with the base map"
   ]
  },
  {
   "cell_type": "code",
   "execution_count": null,
   "id": "61bf33fe-dd43-4d1a-a5f9-005452353366",
   "metadata": {},
   "outputs": [],
   "source": [
    "classes = [intervals.get_class(v) for v in all_values_neg]"
   ]
  },
  {
   "cell_type": "code",
   "execution_count": null,
   "id": "05e487ae-1af8-40df-810b-5fbcce8c7d16",
   "metadata": {},
   "outputs": [],
   "source": [
    "class_counts = [ len([i for i in classes if i==j]) for j in range(numclass) ] \n",
    "class_means = [ sum([all_values_neg[i] for i in range(m) if classes[i]==j])/float(class_counts[j])\n",
    "                for j in range(numclass) ]\n",
    "means = [ class_means[i] for i in classes ]\n",
    "moransi2(all_values_neg, adjacency_list)"
   ]
  },
  {
   "cell_type": "code",
   "execution_count": 87,
   "id": "ee60d389",
   "metadata": {},
   "outputs": [],
   "source": [
    "dataGenerationPath = r'C:\\Users\\jiali\\Desktop\\choroplethClassAnalysis\\mapGeneration\\code'"
   ]
  },
  {
   "cell_type": "code",
   "execution_count": null,
   "id": "0548cb26",
   "metadata": {},
   "outputs": [],
   "source": [
    "\n",
    "with open(dataGenerationPath + '\\\\all_values_neg.pickle', 'wb') as f:\n",
    "    pickle.dump(all_values_neg,f)"
   ]
  },
  {
   "cell_type": "markdown",
   "id": "ac817f78",
   "metadata": {},
   "source": [
    "#### 2. Generate spatial data (all values) with NO spatial autocorrelation for the enumeration units"
   ]
  },
  {
   "cell_type": "code",
   "execution_count": null,
   "id": "8de2a150",
   "metadata": {},
   "outputs": [],
   "source": [
    "# randomly select values for nonpattern maps\n",
    "all_values_nonAuto = [random.uniform(0, 1) for i in range(len(all_features))] "
   ]
  },
  {
   "cell_type": "code",
   "execution_count": null,
   "id": "aadaec92",
   "metadata": {},
   "outputs": [],
   "source": [
    "unique_values = list(set(all_values_nonAuto))\n",
    "m = len(all_values_nonAuto)     # number of all values in data\n",
    "n = len(unique_values)  # number of unique values in data\n",
    "print(n, m, min(unique_values), max(unique_values))"
   ]
  },
  {
   "cell_type": "code",
   "execution_count": null,
   "id": "afe024d7",
   "metadata": {},
   "outputs": [],
   "source": [
    "intervals = Intervals()\n",
    "intervals_bounds = [ [0, 0.25], [0.25, 0.5], [0.5, 0.75], [0.75, 1] ]\n",
    "intervals.set_classes(intervals_bounds)\n",
    "intervals"
   ]
  },
  {
   "cell_type": "code",
   "execution_count": null,
   "id": "5f14938e",
   "metadata": {},
   "outputs": [],
   "source": [
    "xmin, ymin, xmax, ymax = geom_bounds['xmin'], geom_bounds['ymin'], geom_bounds['xmax'], geom_bounds['ymax']"
   ]
  },
  {
   "cell_type": "code",
   "execution_count": null,
   "id": "ea6fe74d",
   "metadata": {},
   "outputs": [],
   "source": [
    "# get the classes using the break points in intervals\n",
    "classes = [intervals.get_class(v) for v in all_values_nonAuto]\n",
    "\n",
    "# get the color scheme\n",
    "colors = get_colorbrewer_specs(colorScheme, numclass)\n",
    "\n",
    "# set up the canvas (ax0 is used in rect_legend)\n",
    "_, ax0 = plt.subplots()\n",
    "\n",
    "draw_shape(all_features, classes, colors)\n",
    "\n",
    "box_w = (geom_bounds['xmax']-geom_bounds['xmin'])/5  # a fraction of the total with\n",
    "box_h = box_w*2/3      # slightly smaller than the width\n",
    "label_xgap = box_w / 3\n",
    "label_ygap = box_h * 0.2\n",
    "\n",
    "rect_legend(xmax*1.1, ymin, box_w, box_h, label_xgap, ax0, colors, ygap=label_ygap, edgecolor='grey', intervals=intervals, num_digits=2)\n",
    "\n",
    "plt.axis('off')\n",
    "plt.axis('equal')\n",
    "plt.show()"
   ]
  },
  {
   "cell_type": "code",
   "execution_count": null,
   "id": "dbee00d5",
   "metadata": {},
   "outputs": [],
   "source": [
    "classes = [intervals.get_class(v) for v in all_values_nonAuto]"
   ]
  },
  {
   "cell_type": "code",
   "execution_count": null,
   "id": "e6074c58",
   "metadata": {},
   "outputs": [],
   "source": [
    "class_counts = [ len([i for i in classes if i==j]) for j in range(numclass) ] \n",
    "class_means = [ sum([all_values_nonAuto[i] for i in range(m) if classes[i]==j])/float(class_counts[j])\n",
    "                for j in range(numclass) ]\n",
    "means = [ class_means[i] for i in classes ]\n",
    "moransi2(all_values_nonAuto, adjacency_list)"
   ]
  },
  {
   "cell_type": "code",
   "execution_count": null,
   "id": "502df26d",
   "metadata": {},
   "outputs": [],
   "source": [
    "with open(dataGenerationPath + '\\\\all_values_nonAuto.pickle', 'wb') as f:\n",
    "    pickle.dump(all_values_nonAuto,f)"
   ]
  },
  {
   "cell_type": "markdown",
   "id": "518b99fe",
   "metadata": {},
   "source": [
    "#### 3. Generate spatial data (all values) with POSITIVE spatial autocorrelation for the enumeration units"
   ]
  },
  {
   "cell_type": "markdown",
   "id": "1ea5e111",
   "metadata": {},
   "source": [
    "We use midpoint displacement interpolation to generate a grid with some trend to synthesize data with positive spatial autocorrelation."
   ]
  },
  {
   "cell_type": "markdown",
   "id": "9ce52692",
   "metadata": {},
   "source": [
    "The next a couple of cells are the functions needed for this section"
   ]
  },
  {
   "cell_type": "code",
   "execution_count": 10,
   "id": "c9ff8bbb",
   "metadata": {},
   "outputs": [],
   "source": [
    "def f(delta, x):\n",
    "    return sum(x)/len(x)+delta*random.gauss(0,1)\n",
    "\n",
    "def midpoint2d(maxlevel, sigma, H, addition=False):\n",
    "    N = int(math.pow(2, maxlevel))\n",
    "    X = [ [0]*(N+1) for x in range(N+1)]\n",
    "    delta = sigma\n",
    "    X[0][0] = delta*random.gauss(0,1)\n",
    "    X[0][N] = delta*random.gauss(0,1)\n",
    "    X[N][0] = delta*random.gauss(0,1)\n",
    "    X[N][N] = delta*random.gauss(0,1)\n",
    "    D = N\n",
    "    d = int(N/2)\n",
    "    for stage in range(1, maxlevel+1):\n",
    "        delta = delta*math.pow(0.5, 0.5*H)\n",
    "        for x in range(d, N-d+1, D):\n",
    "            for y in range(d, N-d+1, D):\n",
    "                X[x][y] = f(delta, [X[x+d][y+d], X[x+d][y-d],\n",
    "                                    X[x-d][y+d], X[x-d][y-d]])\n",
    "        if addition is True:\n",
    "            for x in range(0, N+1, D):\n",
    "                for y in range(0, N+1, D):\n",
    "                    X[x][y] += delta*random.gauss(0, 1)\n",
    "        delta = delta*math.pow(0.5, 0.5*H)\n",
    "        for x in range(d, N-d+1, D):\n",
    "            X[x][0] = f(delta,[X[x+d][0],X[x-d][0],X[x][d]])\n",
    "            X[x][N] = f(delta,[X[x+d][N],X[x-d][N],X[x][N-d]])\n",
    "            X[0][x] = f(delta,[X[0][x+d],X[0][x-d],X[d][x]])\n",
    "            X[N][x] = f(delta,[X[N][x+d],X[N][x-d],X[N-d][x]])\n",
    "        for x in range(d, N-d+1, D):\n",
    "            for y in range(D, N-d+1, D):\n",
    "                X[x][y] = f(delta, [X[x][y+d], X[x][y-d],\n",
    "                                    X[x+d][y], X[x+d][y]])\n",
    "        for x in range(D, N-d+1, D):\n",
    "            for y in range(d, N-d+1, D):\n",
    "                X[x][y] = f(delta, [X[x][y+d], X[x+d][y-d],\n",
    "                                    X[x+d][y], X[x-d][y]])\n",
    "        if addition is True:\n",
    "            for x in range(0, N+1, D):\n",
    "                for y in range(0, N+1, D):\n",
    "                    X[x][y] += delta*random.gauss(0, 1)\n",
    "            for x in range(d, N-d+1, D):\n",
    "                for y in range(d, N-d+1, D):\n",
    "                    X[x][y] += delta*random.gauss(0, 1)\n",
    "        D = int(D/2)\n",
    "        d = int(d/2)\n",
    "    return X"
   ]
  },
  {
   "cell_type": "code",
   "execution_count": 11,
   "id": "5b3b7931",
   "metadata": {},
   "outputs": [],
   "source": [
    "def NormalizeData(data):\n",
    "    return (data - np.min(data)) / (np.max(data) - np.min(data))"
   ]
  },
  {
   "cell_type": "code",
   "execution_count": 12,
   "id": "15eb5ba9",
   "metadata": {},
   "outputs": [],
   "source": [
    "def getValueUnit(envelopes, generatedMatrix, geom_bounds):\n",
    "    # get generated data for each enumeration unit in the map\n",
    "    # envelopes are for each unit, generatedMatrix is the generated matrix\n",
    "    # return a list of value for each unit\n",
    "    valueListUnit = []\n",
    "    boundXMin = geom_bounds['xmin']\n",
    "    boundXMax = geom_bounds['xmax']\n",
    "    boundXRange = boundXMax - boundXMin\n",
    "    boundYMin = geom_bounds['ymin']\n",
    "    boundYMax = geom_bounds['ymax']\n",
    "    boundYRange = boundYMax - boundYMin\n",
    "       \n",
    "    for envelope in envelopes:\n",
    "        xMid = (envelope[0] + envelope[2])/2\n",
    "        yMid = (envelope[1] + envelope[3])/2\n",
    "        \n",
    "        xIndex = int((xMid - boundXMin) / boundXRange * generatedMatrix.shape[0]) - 1 \n",
    "        if xIndex < 0:\n",
    "            xIndex = 0\n",
    "        yIndex = int((yMid - boundYMin) / boundYRange * generatedMatrix.shape[0]) - 1 \n",
    "        if yIndex < 0:\n",
    "            yIndex = 0\n",
    "        value = generatedMatrix[yIndex][xIndex]\n",
    "        valueListUnit.append(value)\n",
    "    return valueListUnit"
   ]
  },
  {
   "cell_type": "markdown",
   "id": "74adf5d1",
   "metadata": {},
   "source": [
    "##### (1) large positive spatial autocorrelation"
   ]
  },
  {
   "cell_type": "markdown",
   "id": "7521c7fb",
   "metadata": {},
   "source": [
    "Conduct midpoint displacement interpolation"
   ]
  },
  {
   "cell_type": "code",
   "execution_count": null,
   "id": "032895ad",
   "metadata": {},
   "outputs": [],
   "source": [
    "maxlevel = 6\n",
    "sigma = 0.5\n",
    "H = 0.9\n",
    "if len(sys.argv) == 4:\n",
    "    maxlevel = string.atoi(sys.argv[1])\n",
    "    sigma = string.atof(sys.argv[2])\n",
    "    H = string.atof(sys.argv[3])\n",
    "X = midpoint2d(maxlevel, sigma, H)"
   ]
  },
  {
   "cell_type": "code",
   "execution_count": null,
   "id": "48fea004",
   "metadata": {},
   "outputs": [],
   "source": [
    "generatedMatrix = np.array(X)\n",
    "generatedMatrixNorm = NormalizeData(generatedMatrix)"
   ]
  },
  {
   "cell_type": "markdown",
   "id": "416258cc",
   "metadata": {},
   "source": [
    "Visualize generated matrix with some trend"
   ]
  },
  {
   "cell_type": "code",
   "execution_count": null,
   "id": "0e95b35b",
   "metadata": {},
   "outputs": [],
   "source": [
    "plt.imshow(generatedMatrixNorm, interpolation='none')\n",
    "plt.colorbar(orientation='vertical')\n",
    "plt.show()"
   ]
  },
  {
   "cell_type": "code",
   "execution_count": null,
   "id": "1d3b9051",
   "metadata": {},
   "outputs": [],
   "source": [
    "# get value from generated data with MidPoint2.py\n",
    "all_values_pos_large = getValueUnit(envelopes, generatedMatrixNorm, geom_bounds)\n",
    "# all_values"
   ]
  },
  {
   "cell_type": "code",
   "execution_count": null,
   "id": "0a8cc249",
   "metadata": {},
   "outputs": [],
   "source": [
    "unique_values = list(set(all_values_pos_large))\n",
    "m = len(all_values_pos_large)     # number of all values in data\n",
    "n = len(unique_values)  # number of unique values in data\n",
    "print(n, m, min(unique_values), max(unique_values))"
   ]
  },
  {
   "cell_type": "code",
   "execution_count": null,
   "id": "bc5bf0c3",
   "metadata": {},
   "outputs": [],
   "source": [
    "intervals = Intervals()\n",
    "intervals_bounds = [ [0, 0.25], [0.25, 0.5], [0.5, 0.75], [0.75, 1] ]\n",
    "intervals.set_classes(intervals_bounds)\n",
    "intervals"
   ]
  },
  {
   "cell_type": "code",
   "execution_count": null,
   "id": "e8505026",
   "metadata": {},
   "outputs": [],
   "source": [
    "xmin, ymin, xmax, ymax = geom_bounds['xmin'], geom_bounds['ymin'], geom_bounds['xmax'], geom_bounds['ymax']"
   ]
  },
  {
   "cell_type": "code",
   "execution_count": null,
   "id": "9af2067c",
   "metadata": {},
   "outputs": [],
   "source": [
    "# get the classes using the break points in intervals\n",
    "classes = [intervals.get_class(v) for v in all_values_pos_large]\n",
    "\n",
    "# get the color scheme\n",
    "colors = get_colorbrewer_specs(colorScheme, numclass)\n",
    "\n",
    "# set up the canvas (ax0 is used in rect_legend)\n",
    "_, ax0 = plt.subplots()\n",
    "\n",
    "draw_shape(all_features, classes, colors)\n",
    "\n",
    "box_w = (geom_bounds['xmax']-geom_bounds['xmin'])/5  # a fraction of the total with\n",
    "box_h = box_w*2/3      # slightly smaller than the width\n",
    "label_xgap = box_w / 3\n",
    "label_ygap = box_h * 0.2\n",
    "\n",
    "rect_legend(xmax*1.1, ymin, box_w, box_h, label_xgap, ax0, colors, ygap=label_ygap, edgecolor='grey', intervals=intervals, num_digits=2)\n",
    "\n",
    "plt.axis('off')\n",
    "plt.axis('equal')\n",
    "plt.show()"
   ]
  },
  {
   "cell_type": "code",
   "execution_count": null,
   "id": "f991871d",
   "metadata": {},
   "outputs": [],
   "source": [
    "classes = [intervals.get_class(v) for v in all_values_pos_large]"
   ]
  },
  {
   "cell_type": "code",
   "execution_count": null,
   "id": "61c75556",
   "metadata": {},
   "outputs": [],
   "source": [
    "# class_counts = [ len([i for i in classes if i==j]) for j in range(numclass) ] \n",
    "# class_means = [ sum([all_values_pos_large[i] for i in range(m) if classes[i]==j])/float(class_counts[j])\n",
    "#                 for j in range(numclass) ]\n",
    "# means = [ class_means[i] for i in classes ]\n",
    "moransi2(all_values_pos_large, adjacency_list)"
   ]
  },
  {
   "cell_type": "code",
   "execution_count": null,
   "id": "91f8344e",
   "metadata": {},
   "outputs": [],
   "source": [
    "with open(dataGenerationPath + '\\\\all_values_pos_large.pickle', 'wb') as f:\n",
    "    pickle.dump(all_values_pos_large,f)"
   ]
  },
  {
   "cell_type": "markdown",
   "id": "293388b5",
   "metadata": {},
   "source": [
    "##### (2) small positive spatial autocorrelation"
   ]
  },
  {
   "cell_type": "code",
   "execution_count": 77,
   "id": "b4b4ebb9",
   "metadata": {},
   "outputs": [],
   "source": [
    "maxlevel = 6\n",
    "sigma = 0.2\n",
    "H = 0.15\n",
    "if len(sys.argv) == 4:\n",
    "    maxlevel = string.atoi(sys.argv[1])\n",
    "    sigma = string.atof(sys.argv[2])\n",
    "    H = string.atof(sys.argv[3])\n",
    "X = midpoint2d(maxlevel, sigma, H)"
   ]
  },
  {
   "cell_type": "code",
   "execution_count": 78,
   "id": "e59ae4f1",
   "metadata": {},
   "outputs": [],
   "source": [
    "generatedMatrix = np.array(X)\n",
    "generatedMatrixNorm = NormalizeData(generatedMatrix)"
   ]
  },
  {
   "cell_type": "code",
   "execution_count": 79,
   "id": "706687bd",
   "metadata": {},
   "outputs": [
    {
     "data": {
      "image/png": "[encoded data removed]",
      "text/plain": [
       "<Figure size 432x288 with 2 Axes>"
      ]
     },
     "metadata": {
      "needs_background": "light"
     },
     "output_type": "display_data"
    }
   ],
   "source": [
    "plt.imshow(generatedMatrixNorm, interpolation='none')\n",
    "plt.colorbar(orientation='vertical')\n",
    "plt.show()"
   ]
  },
  {
   "cell_type": "code",
   "execution_count": 80,
   "id": "959da5fb",
   "metadata": {},
   "outputs": [],
   "source": [
    "# get value from generated data with MidPoint2.py\n",
    "all_values_pos_small = getValueUnit(envelopes, generatedMatrixNorm, geom_bounds)\n",
    "# all_values"
   ]
  },
  {
   "cell_type": "code",
   "execution_count": 81,
   "id": "8d137aa2",
   "metadata": {},
   "outputs": [
    {
     "name": "stdout",
     "output_type": "stream",
     "text": [
      "88 88 0.10961198981428977 0.9579956758971977\n"
     ]
    },
    {
     "data": {
      "text/plain": [
       "[0 - 0.25], [0.25 - 0.5], [0.5 - 0.75], [0.75 - 1]"
      ]
     },
     "execution_count": 81,
     "metadata": {},
     "output_type": "execute_result"
    }
   ],
   "source": [
    "unique_values = list(set(all_values_pos_small))\n",
    "m = len(all_values_pos_small)     # number of all values in data\n",
    "n = len(unique_values)  # number of unique values in data\n",
    "print(n, m, min(unique_values), max(unique_values))\n",
    "intervals = Intervals()\n",
    "intervals_bounds = [ [0, 0.25], [0.25, 0.5], [0.5, 0.75], [0.75, 1] ]\n",
    "intervals.set_classes(intervals_bounds)\n",
    "intervals"
   ]
  },
  {
   "cell_type": "code",
   "execution_count": 82,
   "id": "6251b7b1",
   "metadata": {},
   "outputs": [],
   "source": [
    "xmin, ymin, xmax, ymax = geom_bounds['xmin'], geom_bounds['ymin'], geom_bounds['xmax'], geom_bounds['ymax']"
   ]
  },
  {
   "cell_type": "code",
   "execution_count": 83,
   "id": "e969bc3e",
   "metadata": {},
   "outputs": [
    {
     "data": {
      "image/png": "[encoded data removed]",
      "text/plain": [
       "<Figure size 432x288 with 1 Axes>"
      ]
     },
     "metadata": {
      "needs_background": "light"
     },
     "output_type": "display_data"
    }
   ],
   "source": [
    "# get the classes using the break points in intervals\n",
    "classes = [intervals.get_class(v) for v in all_values_pos_small]\n",
    "\n",
    "# get the color scheme\n",
    "colors = get_colorbrewer_specs(colorScheme, numclass)\n",
    "\n",
    "# set up the canvas (ax0 is used in rect_legend)\n",
    "_, ax0 = plt.subplots()\n",
    "\n",
    "draw_shape(all_features, classes, colors)\n",
    "\n",
    "box_w = (geom_bounds['xmax']-geom_bounds['xmin'])/5  # a fraction of the total with\n",
    "box_h = box_w*2/3      # slightly smaller than the width\n",
    "label_xgap = box_w / 3\n",
    "label_ygap = box_h * 0.2\n",
    "\n",
    "rect_legend(xmax*1.1, ymin, box_w, box_h, label_xgap, ax0, colors, ygap=label_ygap, edgecolor='grey', intervals=intervals, num_digits=2)\n",
    "\n",
    "plt.axis('off')\n",
    "plt.axis('equal')\n",
    "plt.show()"
   ]
  },
  {
   "cell_type": "code",
   "execution_count": 84,
   "id": "ed57bc05",
   "metadata": {},
   "outputs": [],
   "source": [
    "classes = [intervals.get_class(v) for v in all_values_pos_small]"
   ]
  },
  {
   "cell_type": "code",
   "execution_count": 85,
   "id": "0bc83498",
   "metadata": {},
   "outputs": [
    {
     "data": {
      "text/plain": [
       "0.29181016770272616"
      ]
     },
     "execution_count": 85,
     "metadata": {},
     "output_type": "execute_result"
    }
   ],
   "source": [
    "# class_counts = [ len([i for i in classes if i==j]) for j in range(numclass) ] \n",
    "# class_means = [ sum([all_values[i] for i in range(m) if classes[i]==j])/float(class_counts[j])\n",
    "#                 for j in range(numclass) ]\n",
    "# means = [ class_means[i] for i in classes ]\n",
    "moransi2(all_values_pos_small, adjacency_list)"
   ]
  },
  {
   "cell_type": "code",
   "execution_count": 88,
   "id": "2e7dc328",
   "metadata": {},
   "outputs": [],
   "source": [
    "with open(dataGenerationPath + '\\\\all_values_pos_small.pickle', 'wb') as f:\n",
    "    pickle.dump(all_values_pos_small,f)"
   ]
  },
  {
   "cell_type": "code",
   "execution_count": null,
   "id": "d4ed58c9",
   "metadata": {},
   "outputs": [],
   "source": []
  }
 ],
 "metadata": {
  "kernelspec": {
   "display_name": "Python 3",
   "language": "python",
   "name": "python3"
  },
  "language_info": {
   "codemirror_mode": {
    "name": "ipython",
    "version": 3
   },
   "file_extension": ".py",
   "mimetype": "text/x-python",
   "name": "python",
   "nbconvert_exporter": "python",
   "pygments_lexer": "ipython3",
   "version": "3.7.11"
  }
 },
 "nbformat": 4,
 "nbformat_minor": 5
}
