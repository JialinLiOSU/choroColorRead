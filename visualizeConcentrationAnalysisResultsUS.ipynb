{
 "cells": [
  {
   "cell_type": "markdown",
   "id": "b415fb1f",
   "metadata": {},
   "source": [
    "### Negative"
   ]
  },
  {
   "cell_type": "code",
   "execution_count": 1,
   "id": "d1a0400d",
   "metadata": {},
   "outputs": [],
   "source": []
  },
  {
   "cell_type": "code",
   "execution_count": 2,
   "id": "206f053e",
   "metadata": {},
   "outputs": [
    {
     "data": {
      "text/plain": [
       "11"
      ]
     },
     "execution_count": 2,
     "metadata": {},
     "output_type": "execute_result"
    }
   ],
   "source": [
    "len(radiiList)"
   ]
  },
  {
   "cell_type": "code",
   "execution_count": 3,
   "id": "24e32b3a",
   "metadata": {},
   "outputs": [
    {
     "data": {
      "text/plain": [
       "11"
      ]
     },
     "execution_count": 3,
     "metadata": {},
     "output_type": "execute_result"
    }
   ],
   "source": [
    "len(ldList)"
   ]
  },
  {
   "cell_type": "code",
   "execution_count": 4,
   "id": "7fd35baf",
   "metadata": {},
   "outputs": [],
   "source": [
    "import matplotlib.pyplot as plt  \n",
    "import matplotlib.patches as patches"
   ]
  },
  {
   "cell_type": "code",
   "execution_count": 5,
   "id": "23e49bba",
   "metadata": {},
   "outputs": [],
   "source": [
    "colors = ['#4E8CA1', '#F9C1E7', '#933D05', '#595697', '#417D22', '#7D8377', '#624F7B', '#C25D39', '#A24AFD', '#2AED9E']"
   ]
  },
  {
   "cell_type": "code",
   "execution_count": 1,
   "id": "256430ac",
   "metadata": {},
   "outputs": [
    {
     "ename": "NameError",
     "evalue": "name 'plt' is not defined",
     "output_type": "error",
     "traceback": [
      "\u001b[1;31m---------------------------------------------------------------------------\u001b[0m",
      "\u001b[1;31mNameError\u001b[0m                                 Traceback (most recent call last)",
      "\u001b[1;32m~\\AppData\\Local\\Temp/ipykernel_15600/2431162439.py\u001b[0m in \u001b[0;36m<module>\u001b[1;34m\u001b[0m\n\u001b[1;32m----> 1\u001b[1;33m \u001b[0mfig\u001b[0m \u001b[1;33m=\u001b[0m \u001b[0mplt\u001b[0m\u001b[1;33m.\u001b[0m\u001b[0mfigure\u001b[0m\u001b[1;33m(\u001b[0m\u001b[1;33m)\u001b[0m\u001b[1;33m\u001b[0m\u001b[1;33m\u001b[0m\u001b[0m\n\u001b[0m\u001b[0;32m      2\u001b[0m \u001b[0max\u001b[0m \u001b[1;33m=\u001b[0m \u001b[0mfig\u001b[0m\u001b[1;33m.\u001b[0m\u001b[0madd_subplot\u001b[0m\u001b[1;33m(\u001b[0m\u001b[1;33m)\u001b[0m\u001b[1;33m\u001b[0m\u001b[1;33m\u001b[0m\u001b[0m\n\u001b[0;32m      3\u001b[0m \u001b[1;33m\u001b[0m\u001b[0m\n\u001b[0;32m      4\u001b[0m \u001b[1;32mfor\u001b[0m \u001b[0mi\u001b[0m\u001b[1;33m,\u001b[0m \u001b[0mradius\u001b[0m \u001b[1;32min\u001b[0m \u001b[0menumerate\u001b[0m\u001b[1;33m(\u001b[0m\u001b[0mradiiList\u001b[0m\u001b[1;33m)\u001b[0m\u001b[1;33m:\u001b[0m\u001b[1;33m\u001b[0m\u001b[1;33m\u001b[0m\u001b[0m\n\u001b[0;32m      5\u001b[0m     \u001b[0mxList\u001b[0m \u001b[1;33m=\u001b[0m \u001b[1;33m[\u001b[0m\u001b[0mldIndex\u001b[0m \u001b[1;32mfor\u001b[0m \u001b[0mldIndex\u001b[0m \u001b[1;32min\u001b[0m \u001b[0mrange\u001b[0m\u001b[1;33m(\u001b[0m\u001b[0mlen\u001b[0m\u001b[1;33m(\u001b[0m\u001b[0mldList\u001b[0m\u001b[1;33m[\u001b[0m\u001b[0mi\u001b[0m\u001b[1;33m]\u001b[0m\u001b[1;33m)\u001b[0m\u001b[1;33m)\u001b[0m\u001b[1;33m]\u001b[0m\u001b[1;33m\u001b[0m\u001b[1;33m\u001b[0m\u001b[0m\n",
      "\u001b[1;31mNameError\u001b[0m: name 'plt' is not defined"
     ]
    }
   ],
   "source": [
    "fig = plt.figure()\n",
    "ax = fig.add_subplot()\n",
    "\n",
    "for i, radius in enumerate(radiiList):\n",
    "    xList = [ldIndex for ldIndex in range(len(ldList[i]))]\n",
    "    yList = [ld for ld in ldList[i]]\n",
    "    ax.scatter(xList, yList, s = 5, c = colors[i%len(colors)])\n",
    "    plt.axhline(y=radius,linewidth = 1,c = colors[i%len(colors)])\n",
    "\n",
    "    \n",
    "plt.show()"
   ]
  },
  {
   "cell_type": "markdown",
   "id": "ff467e0b",
   "metadata": {},
   "source": [
    "### No spatial auto"
   ]
  },
  {
   "cell_type": "code",
   "execution_count": 18,
   "id": "ae996ddd",
   "metadata": {},
   "outputs": [],
   "source": [
    "radiiList = [31.916666666666668, 63.833333333333336, 95.75,127.66666666666667,159.58333333333334, \\\n",
    "             191.5, 223.41666666666666, 255.33333333333331, 287.25, 319.1666666666667, 351.08333333333337]\n",
    "ldList = [\n",
    "[58.43268206791348\n",
    ", 76.79558956284077\n",
    ", 77.79949608750819\n",
    ", 12.457889675458787\n",
    ", 58.43268206791348\n",
    ", 55.71337634103728\n",
    ", 67.08778905144494\n",
    ", 67.08778905144494\n",
    ", 51.365195004208296\n",
    ", 61.0309459535215\n",
    ", 61.0309459535215\n",
    ", 69.3625941710875],\n",
    "\n",
    "[90.69480582587317\n",
    ", 118.84069328347567\n",
    ", 116.86536413582697\n",
    ", 77.79949608750819\n",
    ", 111.42675268207456\n",
    ", 106.44025604587247\n",
    ", 104.97204426312315\n",
    ", 98.09352139813294\n",
    ", 57.089222437198735\n",
    ", 122.061891907043\n",
    ", 78.79061242709125\n",
    ", 85.4069886648477],\n",
    "\n",
    "[96.4983984838824\n",
    ", 122.061891907043\n",
    ", 147.92924368897542\n",
    ", 120.1395372491044\n",
    ", 134.1755781028899\n",
    ", 128.86541282575234\n",
    ", 128.86541282575234\n",
    ", 110.02510251274663\n",
    ", 57.089222437198735\n",
    ", 154.09558501262487\n",
    ", 83.57006451155593\n",
    ", 94.87646114617868],\n",
    "\n",
    "[127.65538215218258\n",
    ", 134.1755781028899\n",
    ", 157.5812248541825\n",
    ", 125.2002417400069\n",
    ", 160.02449032061915\n",
    ", 144.7475977258236\n",
    ", 142.58706458418044\n",
    ", 112.81098901970506\n",
    ", 57.089222437198735\n",
    ", 182.66852016882675\n",
    ", 107.16681912922859\n",
    ", 109.31753824421085],\n",
    "\n",
    "[177.49760583928514\n",
    ", 156.09691022261367\n",
    ", 173.51832451411323\n",
    ", 126.43377144611313\n",
    ", 192.5943006027196\n",
    ", 163.85795563139789\n",
    ", 160.02449032061915\n",
    ", 131.25201211187274\n",
    ", 57.089222437198735\n",
    ", 203.94444357339552\n",
    ", 135.3273209280983\n",
    ", 143.13025536866462],\n",
    "\n",
    "[200.1033380851076\n",
    ", 172.17146074970557\n",
    ", 215.41705024116564\n",
    ", 140.3932866132481\n",
    ", 204.32458266108807\n",
    ", 202.41674832829\n",
    ", 177.05987988110783\n",
    ", 154.59834519020248\n",
    ", 84.49351867233084\n",
    ", 247.28204944024068\n",
    ", 144.21049903606516\n",
    ", 188.11000892516537],\n",
    "\n",
    "[211.41739845097885\n",
    ", 179.67024003576034\n",
    ", 252.86754289222625\n",
    ", 152.57736488380377\n",
    ", 227.33515357340926\n",
    ", 243.4872148458206\n",
    ", 188.93325140947954\n",
    ", 162.9080464353107\n",
    ", 112.81098901970506\n",
    ", 277.45037668435\n",
    ", 145.28271081778024\n",
    ", 222.5050242981559],\n",
    "\n",
    "[230.38676868852235\n",
    ", 190.5690676600513\n",
    ", 273.22285097480255\n",
    ", 169.44561902183244\n",
    ", 250.0903898830556\n",
    ", 264.2717480637236\n",
    ", 208.08778251326248\n",
    ", 164.80238970971556\n",
    ", 142.04179656554382\n",
    ", 290.5654216355605\n",
    ", 174.410455456423\n",
    ", 258.33229864137803],\n",
    "\n",
    "[239.63229250537995\n",
    ", 206.590728665696\n",
    ", 294.2805641943988\n",
    ", 193.3984556685563\n",
    ", 268.92887733992166\n",
    ", 301.05850736507534\n",
    ", 216.13630783590406\n",
    ", 193.7992819133973\n",
    ", 160.02449032061915\n",
    ", 303.11353809787903\n",
    ", 218.27986085741418\n",
    ", 278.8453094425603],\n",
    "\n",
    "[254.09209021340175\n",
    ", 234.39379549964528\n",
    ", 321.01736101052126\n",
    ", 214.33363825845717\n",
    ", 285.4461121859936\n",
    ", 333.5831138921036\n",
    ", 236.69990383371695\n",
    ", 226.30880452326167\n",
    ", 179.67024003576034\n",
    ", 312.19382044522735\n",
    ", 240.2790744982088\n",
    ", 292.9591360356324],\n",
    "\n",
    "[278.0091896909516\n",
    ", 275.20377795546426\n",
    ", 339.8059259098222\n",
    ", 241.56744338254563\n",
    ", 298.4698221013778\n",
    ", 354.9952116785703\n",
    ", 276.8904358983096\n",
    ", 250.71019353466775\n",
    ", 205.0827469826743\n",
    ", 320.0489806412383\n",
    ", 249.15779350917575\n",
    ", 309.6982262986468]]"
   ]
  },
  {
   "cell_type": "code",
   "execution_count": 2,
   "id": "8f968231",
   "metadata": {},
   "outputs": [
    {
     "ename": "NameError",
     "evalue": "name 'plt' is not defined",
     "output_type": "error",
     "traceback": [
      "\u001b[1;31m---------------------------------------------------------------------------\u001b[0m",
      "\u001b[1;31mNameError\u001b[0m                                 Traceback (most recent call last)",
      "\u001b[1;32m~\\AppData\\Local\\Temp/ipykernel_15600/2431162439.py\u001b[0m in \u001b[0;36m<module>\u001b[1;34m\u001b[0m\n\u001b[1;32m----> 1\u001b[1;33m \u001b[0mfig\u001b[0m \u001b[1;33m=\u001b[0m \u001b[0mplt\u001b[0m\u001b[1;33m.\u001b[0m\u001b[0mfigure\u001b[0m\u001b[1;33m(\u001b[0m\u001b[1;33m)\u001b[0m\u001b[1;33m\u001b[0m\u001b[1;33m\u001b[0m\u001b[0m\n\u001b[0m\u001b[0;32m      2\u001b[0m \u001b[0max\u001b[0m \u001b[1;33m=\u001b[0m \u001b[0mfig\u001b[0m\u001b[1;33m.\u001b[0m\u001b[0madd_subplot\u001b[0m\u001b[1;33m(\u001b[0m\u001b[1;33m)\u001b[0m\u001b[1;33m\u001b[0m\u001b[1;33m\u001b[0m\u001b[0m\n\u001b[0;32m      3\u001b[0m \u001b[1;33m\u001b[0m\u001b[0m\n\u001b[0;32m      4\u001b[0m \u001b[1;32mfor\u001b[0m \u001b[0mi\u001b[0m\u001b[1;33m,\u001b[0m \u001b[0mradius\u001b[0m \u001b[1;32min\u001b[0m \u001b[0menumerate\u001b[0m\u001b[1;33m(\u001b[0m\u001b[0mradiiList\u001b[0m\u001b[1;33m)\u001b[0m\u001b[1;33m:\u001b[0m\u001b[1;33m\u001b[0m\u001b[1;33m\u001b[0m\u001b[0m\n\u001b[0;32m      5\u001b[0m     \u001b[0mxList\u001b[0m \u001b[1;33m=\u001b[0m \u001b[1;33m[\u001b[0m\u001b[0mldIndex\u001b[0m \u001b[1;32mfor\u001b[0m \u001b[0mldIndex\u001b[0m \u001b[1;32min\u001b[0m \u001b[0mrange\u001b[0m\u001b[1;33m(\u001b[0m\u001b[0mlen\u001b[0m\u001b[1;33m(\u001b[0m\u001b[0mldList\u001b[0m\u001b[1;33m[\u001b[0m\u001b[0mi\u001b[0m\u001b[1;33m]\u001b[0m\u001b[1;33m)\u001b[0m\u001b[1;33m)\u001b[0m\u001b[1;33m]\u001b[0m\u001b[1;33m\u001b[0m\u001b[1;33m\u001b[0m\u001b[0m\n",
      "\u001b[1;31mNameError\u001b[0m: name 'plt' is not defined"
     ]
    }
   ],
   "source": [
    "fig = plt.figure()\n",
    "ax = fig.add_subplot()\n",
    "\n",
    "for i, radius in enumerate(radiiList):\n",
    "    xList = [ldIndex for ldIndex in range(len(ldList[i]))]\n",
    "    yList = [ld for ld in ldList[i]]\n",
    "    ax.scatter(xList, yList, s = 5, c = colors[i%len(colors)])\n",
    "    plt.axhline(y=radius,linewidth = 1,c = colors[i%len(colors)])\n",
    "\n",
    "    \n",
    "plt.show()"
   ]
  },
  {
   "cell_type": "markdown",
   "id": "83656196",
   "metadata": {},
   "source": [
    "### large positive"
   ]
  },
  {
   "cell_type": "code",
   "execution_count": 3,
   "id": "44740600",
   "metadata": {},
   "outputs": [],
   "source": [
    "radiiList = [17.789473684210527,35.578947368421055,53.36842105263158,71.15789473684211,88.94736842105263,\\\n",
    "             106.73684210526315,124.52631578947367,142.3157894736842,160.1052631578947,177.89473684210523,\\\n",
    "             195.68421052631575,213.47368421052627,231.2631578947368,249.0526315789473,266.84210526315786,\\\n",
    "             284.6315789473684,302.4210526315789,320.2105263157894,337.99999999999994]\n",
    "ldList = [\n",
    "[23.10352580523924\n",
    ",40.01648052865303],\n",
    "\n",
    "[54.182570772190715\n",
    ",86.44547798969579],\n",
    "\n",
    "[76.62572643027217\n",
    ",116.66708648179473],\n",
    "\n",
    "[108.36514154438143\n",
    ",152.37821810072123],\n",
    "\n",
    "[128.63498763413483\n",
    ",184.10480559783898],\n",
    "[145.20340813155022\n",
    ",209.8481942553994],\n",
    "\n",
    "\n",
    "[160.0659221146121\n",
    ",225.18531466365383],\n",
    "\n",
    "[178.95914136472976\n",
    ",239.54245395771858],\n",
    "\n",
    "[194.6737687233908\n",
    ",250.96852939509358],\n",
    "\n",
    "[209.21132421533773\n",
    ",267.94114218086463],\n",
    "\n",
    "[221.60123471287048\n",
    ",278.6825391447287],\n",
    "\n",
    "[226.95613077667414\n",
    ",282.95924741029995],\n",
    "\n",
    "[233.33417296358945\n",
    ",289.0250154832971],\n",
    "\n",
    "[237.8653566434921\n",
    ",298.56335185981953],\n",
    "\n",
    "[240.09888317191817\n",
    ",304.75643620144245],\n",
    "\n",
    "[245.04989649304588\n",
    ",312.1114465949421],\n",
    "\n",
    "[249.9028408043866\n",
    ",318.87887721304816],\n",
    "\n",
    "[252.02971184241218\n",
    ",321.37992632794334],\n",
    "\n",
    "[255.18678328876945\n",
    ",325.9153387339077]]"
   ]
  },
  {
   "cell_type": "code",
   "execution_count": 6,
   "id": "e71ebc2b",
   "metadata": {},
   "outputs": [
    {
     "data": {
      "image/png": "[encoded data removed]",
      "text/plain": [
       "<Figure size 432x288 with 1 Axes>"
      ]
     },
     "metadata": {
      "needs_background": "light"
     },
     "output_type": "display_data"
    }
   ],
   "source": [
    "fig = plt.figure()\n",
    "ax = fig.add_subplot()\n",
    "\n",
    "for i, radius in enumerate(radiiList):\n",
    "    xList = [ldIndex for ldIndex in range(len(ldList[i]))]\n",
    "    yList = [ld for ld in ldList[i]]\n",
    "    ax.scatter(xList, yList, s = 5, c = colors[i%len(colors)])\n",
    "    plt.axhline(y=radius,linewidth = 1,c = colors[i%len(colors)])\n",
    "\n",
    "    \n",
    "plt.show()"
   ]
  },
  {
   "cell_type": "markdown",
   "id": "eac14aa0",
   "metadata": {},
   "source": [
    "### small positive"
   ]
  },
  {
   "cell_type": "code",
   "execution_count": 23,
   "id": "9594616a",
   "metadata": {},
   "outputs": [],
   "source": [
    "radiiList = [42.111111111111114,84.22222222222223,126.33333333333334,168.44444444444446,\\\n",
    "             210.55555555555557,252.66666666666669,294.7777777777778,336.8888888888889]\n",
    "ldList = [\n",
    "[75.79515956554401\n",
    ", 78.586094059851\n",
    ", 46.41486647710359\n",
    ", 80.39290696486889\n",
    ", 83.02943728750385\n",
    ", 80.39290696486889\n",
    ", 85.58478499299397\n",
    ", 88.87770273613981\n",
    ", 86.41977827810113\n",
    ", 91.26945825231519\n",
    ", 77.66692683661812],\n",
    "\n",
    "[107.85840292935787\n",
    ", 136.6416671227719\n",
    ", 52.23820873119582\n",
    ", 163.4436107441438\n",
    ", 101.6898774923999\n",
    ", 130.73291852230517\n",
    ", 92.05290144808181\n",
    ", 89.68204223250488\n",
    ", 157.172188119702\n",
    ", 128.51694582428829\n",
    ", 136.6416671227719],\n",
    "\n",
    "[131.8269369136596\n",
    ", 170.32843678760662\n",
    ", 52.23820873119582\n",
    ", 204.0847129217559\n",
    ", 103.09256275356441\n",
    ", 164.75643192027638\n",
    ", 105.84218023290262\n",
    ", 113.0593486854801\n",
    ", 187.58344958469405\n",
    ", 141.79975933506367\n",
    ", 163.00365406255173],\n",
    "\n",
    "[183.32403374724964\n",
    ", 189.48789891386005\n",
    ", 71.90560195290524\n",
    ", 231.76469337853146\n",
    ", 105.16151606512284\n",
    ", 211.68436046580524\n",
    ", 139.24459943131077\n",
    ", 161.23182259215272\n",
    ", 221.95173074641892\n",
    ", 190.62143583764845\n",
    ", 191.3733970840384],\n",
    "\n",
    "[232.07433238551795\n",
    ", 219.6752425603685\n",
    ", 116.80818574577688\n",
    ", 239.38554567960787\n",
    ", 111.78180090921177\n",
    ", 260.91596085858833\n",
    ", 163.00365406255173\n",
    ", 189.48789891386005\n",
    ", 255.07070170569983\n",
    ", 242.3668006013101\n",
    ", 213.71009428160363],\n",
    "\n",
    "[281.82144773340764\n",
    ", 247.64263330416276\n",
    ", 171.16956998598795\n",
    ", 249.08831186251155\n",
    ", 126.26208751104356\n",
    ", 295.26081993869127\n",
    ", 176.94558164570321\n",
    ", 235.14829853855085\n",
    ", 280.80035217427553\n",
    ", 266.6331082084194\n",
    ", 227.38547869663205],\n",
    "\n",
    "[330.3834409557466\n",
    ", 266.36364567550044\n",
    ", 213.03698995050976\n",
    ", 265.2830584794041\n",
    ", 174.49356129067135\n",
    ", 310.4364697205764\n",
    ", 194.72129059128957\n",
    ", 289.11656024411565\n",
    ", 297.92415309873587\n",
    ", 292.5732431069826\n",
    ", 236.36669166135076],\n",
    "\n",
    "[361.71845268657773\n",
    ", 282.83885699088523\n",
    ", 238.7848281814515\n",
    ", 291.83597210782654\n",
    ", 211.68436046580524\n",
    ", 332.9815158861362\n",
    ", 242.95866180153678\n",
    ", 326.8872214882876\n",
    ", 324.01876651349033\n",
    ", 312.28157642628804\n",
    ", 243.84376003993003]]"
   ]
  },
  {
   "cell_type": "code",
   "execution_count": 24,
   "id": "95265989",
   "metadata": {},
   "outputs": [
    {
     "data": {
      "image/png": "[encoded data removed]",
      "text/plain": [
       "<Figure size 432x288 with 1 Axes>"
      ]
     },
     "metadata": {
      "needs_background": "light"
     },
     "output_type": "display_data"
    }
   ],
   "source": [
    "fig = plt.figure()\n",
    "ax = fig.add_subplot()\n",
    "\n",
    "for i, radius in enumerate(radiiList):\n",
    "    xList = [ldIndex for ldIndex in range(len(ldList[i]))]\n",
    "    yList = [ld for ld in ldList[i]]\n",
    "    ax.scatter(xList, yList, s = 5, c = colors[i%len(colors)])\n",
    "    plt.axhline(y=radius,linewidth = 1,c = colors[i%len(colors)])\n",
    "    \n",
    "plt.show()"
   ]
  },
  {
   "cell_type": "code",
   "execution_count": null,
   "id": "0efebb24",
   "metadata": {},
   "outputs": [],
   "source": []
  }
 ],
 "metadata": {
  "kernelspec": {
   "display_name": "Python 3",
   "language": "python",
   "name": "python3"
  },
  "language_info": {
   "codemirror_mode": {
    "name": "ipython",
    "version": 3
   },
   "file_extension": ".py",
   "mimetype": "text/x-python",
   "name": "python",
   "nbconvert_exporter": "python",
   "pygments_lexer": "ipython3",
   "version": "3.7.11"
  }
 },
 "nbformat": 4,
 "nbformat_minor": 5
}
